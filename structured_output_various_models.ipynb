{
 "cells": [
  {
   "cell_type": "markdown",
   "metadata": {},
   "source": [
    "Construct Pydantic model from a text input."
   ]
  },
  {
   "cell_type": "markdown",
   "metadata": {},
   "source": [
    "## Imports"
   ]
  },
  {
   "cell_type": "code",
   "execution_count": 2,
   "metadata": {},
   "outputs": [],
   "source": [
    "import nest_asyncio"
   ]
  },
  {
   "cell_type": "code",
   "execution_count": 2,
   "metadata": {},
   "outputs": [],
   "source": [
    "from pydantic import BaseModel\n",
    "from pydantic_ai import Agent"
   ]
  },
  {
   "cell_type": "markdown",
   "metadata": {},
   "source": [
    "Nest Asyncio must be applied for the async to work in Jupyter notebook."
   ]
  },
  {
   "cell_type": "code",
   "execution_count": 3,
   "metadata": {},
   "outputs": [],
   "source": [
    "nest_asyncio.apply()"
   ]
  },
  {
   "cell_type": "markdown",
   "metadata": {},
   "source": [
    "## Define structure of the output - a Pydantic model"
   ]
  },
  {
   "cell_type": "code",
   "execution_count": 4,
   "metadata": {},
   "outputs": [],
   "source": [
    "class Person(BaseModel):\n",
    "    full_name: str\n",
    "    age_approx: int\n",
    "    description: str\n",
    "    job: str\n",
    "    intelligence: str\n"
   ]
  },
  {
   "cell_type": "code",
   "execution_count": 5,
   "metadata": {},
   "outputs": [],
   "source": [
    "class Project(BaseModel):\n",
    "    name: str\n",
    "    description: str\n",
    "    persons_involved: list[Person]\n"
   ]
  },
  {
   "cell_type": "markdown",
   "metadata": {},
   "source": [
    "## Define function to get result"
   ]
  },
  {
   "cell_type": "code",
   "execution_count": 6,
   "metadata": {},
   "outputs": [],
   "source": [
    "def display_response_and_usage(model: str, prompt: str, result_type: type) -> None:\n",
    "    agent = Agent(\n",
    "        model=model,\n",
    "        system_prompt=\"You are a helpful assistant.\",\n",
    "        result_type=result_type\n",
    "        )\n",
    "    result = agent.run_sync(prompt)\n",
    "\n",
    "    # Display\n",
    "    print(\"\\n\")\n",
    "    print(\"=\"*100)\n",
    "    print(f\"MODEL: {model}\")\n",
    "    print(\"DATA:\")\n",
    "    print(result.data)\n",
    "    print(\"USAGE\")\n",
    "    print(result.usage())"
   ]
  },
  {
   "cell_type": "markdown",
   "metadata": {},
   "source": [
    "## Use different models to generate data"
   ]
  },
  {
   "cell_type": "code",
   "execution_count": 9,
   "metadata": {},
   "outputs": [],
   "source": [
    "models = [\n",
    "    \"openai:gpt-4o\",\n",
    "    \"google-gla:gemini-1.5-flash\",\n",
    "    \"anthropic:claude-3-7-sonnet-latest\",\n",
    "    \"groq:llama-3.3-70b-versatile\"\n",
    "]"
   ]
  },
  {
   "cell_type": "code",
   "execution_count": 13,
   "metadata": {},
   "outputs": [
    {
     "name": "stdout",
     "output_type": "stream",
     "text": [
      "\n",
      "\n",
      "====================================================================================================\n",
      "MODEL: openai:gpt-4o\n",
      "DATA:\n",
      "full_name='Mark Scout' age_approx=40 description=\"Mark Scout is the protagonist of the Apple TV+ series 'Severance'. He is an employee at Lumon Industries who has undergone a procedure to surgically divide his memories between his work and personal lives.\" job='Employee at Lumon Industries' intelligence='Moderately intelligent, exhibiting both curiosity and a strong sense of ethical responsibility.'\n",
      "USAGE\n",
      "Usage(requests=1, request_tokens=93, response_tokens=110, total_tokens=203, details={'accepted_prediction_tokens': 0, 'audio_tokens': 0, 'reasoning_tokens': 0, 'rejected_prediction_tokens': 0, 'cached_tokens': 0})\n",
      "\n",
      "\n",
      "====================================================================================================\n",
      "MODEL: google-gla:gemini-1.5-flash\n",
      "DATA:\n",
      "full_name='Mark Scout' age_approx=30 description='Mark Scout is a complex character in the Severance series, working at Lumon Industries.' job='Data Refinement at Lumon Industries' intelligence='High'\n",
      "USAGE\n",
      "Usage(requests=1, request_tokens=39, response_tokens=40, total_tokens=79, details=None)\n",
      "\n",
      "\n",
      "====================================================================================================\n",
      "MODEL: anthropic:claude-3-7-sonnet-latest\n",
      "DATA:\n",
      "full_name='Mark Scout' age_approx=40 description='Mark Scout is the main protagonist of the TV series \\'Severance\\'. He is an employee at Lumon Industries who has undergone the severance procedure, which surgically separates his work memories from his personal memories. This creates two versions of himself: his \"innie\" who only exists at work, and his \"outie\" who lives in the outside world but has no memory of what happens during work hours. Mark joined Lumon after experiencing depression following the death of his wife Gemma. He works as a manager in the Macrodata Refinement department where he oversees a small team. Throughout the series, Mark\\'s innie begins to uncover secrets about Lumon and the nature of severance, while his outie gradually questions his choice to undergo the procedure.' job='Manager of Macrodata Refinement at Lumon Industries' intelligence='High intelligence with strong analytical skills. As his innie self, he shows leadership abilities and growing curiosity. His outie self is thoughtful but struggles with emotional trauma, relying on the severance procedure as a coping mechanism.'\n",
      "USAGE\n",
      "Usage(requests=1, request_tokens=490, response_tokens=335, total_tokens=825, details=None)\n",
      "\n",
      "\n",
      "====================================================================================================\n",
      "MODEL: groq:llama-3.3-70b-versatile\n",
      "DATA:\n",
      "full_name='Mark Scout' age_approx=35 description='The main character of the Severance series' job='Office worker at Lumon' intelligence='Highly efficient and productive in his work but struggles with personal issues'\n",
      "USAGE\n",
      "Usage(requests=1, request_tokens=306, response_tokens=62, total_tokens=368, details=None)\n"
     ]
    }
   ],
   "source": [
    "for model in models:\n",
    "    display_response_and_usage(model, \"Who is Mark Scout in `Severance` series?\", Person)"
   ]
  }
 ],
 "metadata": {
  "kernelspec": {
   "display_name": "Python 3",
   "language": "python",
   "name": "python3"
  },
  "language_info": {
   "codemirror_mode": {
    "name": "ipython",
    "version": 3
   },
   "file_extension": ".py",
   "mimetype": "text/x-python",
   "name": "python",
   "nbconvert_exporter": "python",
   "pygments_lexer": "ipython3",
   "version": "3.12.7"
  }
 },
 "nbformat": 4,
 "nbformat_minor": 2
}
