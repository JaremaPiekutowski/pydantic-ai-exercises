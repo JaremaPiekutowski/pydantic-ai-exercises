{
 "cells": [
  {
   "cell_type": "markdown",
   "metadata": {},
   "source": [
    "# Imports"
   ]
  },
  {
   "cell_type": "code",
   "execution_count": 1,
   "metadata": {},
   "outputs": [],
   "source": [
    "import json\n",
    "import nest_asyncio\n"
   ]
  },
  {
   "cell_type": "code",
   "execution_count": 2,
   "metadata": {},
   "outputs": [],
   "source": [
    "from dotenv import load_dotenv\n"
   ]
  },
  {
   "cell_type": "code",
   "execution_count": 3,
   "metadata": {},
   "outputs": [],
   "source": [
    "from pydantic_ai import Agent"
   ]
  },
  {
   "cell_type": "markdown",
   "metadata": {},
   "source": [
    "# Setup"
   ]
  },
  {
   "cell_type": "code",
   "execution_count": 4,
   "metadata": {},
   "outputs": [],
   "source": [
    "nest_asyncio.apply()"
   ]
  },
  {
   "cell_type": "code",
   "execution_count": 5,
   "metadata": {},
   "outputs": [
    {
     "data": {
      "text/plain": [
       "True"
      ]
     },
     "execution_count": 5,
     "metadata": {},
     "output_type": "execute_result"
    }
   ],
   "source": [
    "load_dotenv()"
   ]
  },
  {
   "cell_type": "markdown",
   "metadata": {},
   "source": [
    "# Initialize agent"
   ]
  },
  {
   "cell_type": "code",
   "execution_count": 6,
   "metadata": {},
   "outputs": [],
   "source": [
    "agent = Agent(\n",
    "    'google-gla:gemini-1.5-flash',\n",
    "    system_prompt=\"Be concise, reply with one sentence.\"\n",
    ")"
   ]
  },
  {
   "cell_type": "markdown",
   "metadata": {},
   "source": [
    "# Run agent synchronically"
   ]
  },
  {
   "cell_type": "code",
   "execution_count": 7,
   "metadata": {},
   "outputs": [],
   "source": [
    "response = agent.run_sync(\"Whp is Helly from 'Severance' TV show?\")"
   ]
  },
  {
   "cell_type": "markdown",
   "metadata": {},
   "source": [
    "## See response data"
   ]
  },
  {
   "cell_type": "code",
   "execution_count": 8,
   "metadata": {},
   "outputs": [
    {
     "name": "stdout",
     "output_type": "stream",
     "text": [
      "Helly R. is a Level-conscious employee at Lumon Industries, whose outside life is largely a mystery.\n",
      "\n"
     ]
    }
   ],
   "source": [
    "print(response.data)"
   ]
  },
  {
   "cell_type": "markdown",
   "metadata": {},
   "source": [
    "## See response usage costs"
   ]
  },
  {
   "cell_type": "code",
   "execution_count": 13,
   "metadata": {},
   "outputs": [
    {
     "name": "stdout",
     "output_type": "stream",
     "text": [
      "Usage(requests=1, request_tokens=21, response_tokens=24, total_tokens=45, details=None)\n"
     ]
    }
   ],
   "source": [
    "print(response.usage())"
   ]
  },
  {
   "cell_type": "markdown",
   "metadata": {},
   "source": [
    "## See response structure"
   ]
  },
  {
   "cell_type": "code",
   "execution_count": 14,
   "metadata": {},
   "outputs": [
    {
     "name": "stdout",
     "output_type": "stream",
     "text": [
      "{'data': 'Helly R. is a Level-conscious employee at Lumon Industries, whose outside life is largely a mystery.\\n', '_result_tool_name': None, '_state': GraphAgentState(message_history=[ModelRequest(parts=[SystemPromptPart(content='Be concise, reply with one sentence.', dynamic_ref=None, part_kind='system-prompt'), UserPromptPart(content=\"Whp is Helly from 'Severance' TV show?\", timestamp=datetime.datetime(2025, 2, 28, 14, 59, 19, 921663, tzinfo=datetime.timezone.utc), part_kind='user-prompt')], kind='request'), ModelResponse(parts=[TextPart(content='Helly R. is a Level-conscious employee at Lumon Industries, whose outside life is largely a mystery.\\n', part_kind='text')], model_name='gemini-1.5-flash', timestamp=datetime.datetime(2025, 2, 28, 14, 59, 20, 538453, tzinfo=datetime.timezone.utc), kind='response')], usage=Usage(requests=1, request_tokens=21, response_tokens=24, total_tokens=45, details=None), retries=0, run_step=1), '_new_message_index': 0}\n"
     ]
    }
   ],
   "source": [
    "print(response.__dict__)"
   ]
  },
  {
   "cell_type": "markdown",
   "metadata": {},
   "source": [
    "Structure of the result object based on the __dict__ output:\n",
    "1) **data** (str): The actual response text from the AI. Contains the direct answer about the Severance TV show\n",
    "2) **_result_tool_name** (None): which tool generated the result\n",
    "3) **_state** (object of type GraphAgentState): Contains the full state of the interaction:\n",
    "    - **message_history**: List containing:\n",
    "        - **ModelRequest** - object of type ModelRequest with:\n",
    "            - **parts**: List of prompt parts\n",
    "                - **SystemPromptPart** (system prompt):\n",
    "                    - **content**: The system prompt text\n",
    "                    - **dynamic_ref**: ?\n",
    "                    - **part_kind**: shows that it is \"system-prompt\"\n",
    "                - **UserPromptPart** (user's question with timestamp)\n",
    "                    - **content**: The user's question\n",
    "                    - **timestamp**: When the question was generated\n",
    "                    - **part_kind**: shows that it is \"user-prompt\"\n",
    "        - **ModelResponse** - object of type ModelResponse with:\n",
    "            - **parts**: List containing TextParts (the actual response):\n",
    "                - **TextPart**: The actual response text:\n",
    "                    - **content**: The actual response text\n",
    "                    - **part_kind**: shows that it is \"text\"\n",
    "            - **model_name**: 'gemini-1.5-flash'\n",
    "            - **timestamp**: When the response was generated and **tzinfo**\n",
    "            - **kind**: shows that it is \"response\"\n",
    "    - **usage**: Tracking token usage\n",
    "        - **requests**: 1\n",
    "        - **request_tokens**: 19\n",
    "        - **response_tokens**: 25\n",
    "        - **total_tokens**: 44\n",
    "        - **details**: None\n",
    "    - **retries**: 0\n",
    "    - **run_step**: 1\n",
    "4) **_new_message_index**: 0\n"
   ]
  }
 ],
 "metadata": {
  "kernelspec": {
   "display_name": "Python 3",
   "language": "python",
   "name": "python3"
  },
  "language_info": {
   "codemirror_mode": {
    "name": "ipython",
    "version": 3
   },
   "file_extension": ".py",
   "mimetype": "text/x-python",
   "name": "python",
   "nbconvert_exporter": "python",
   "pygments_lexer": "ipython3",
   "version": "3.12.7"
  }
 },
 "nbformat": 4,
 "nbformat_minor": 2
}
