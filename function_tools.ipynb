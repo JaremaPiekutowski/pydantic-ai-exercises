{
 "cells": [
  {
   "cell_type": "markdown",
   "metadata": {},
   "source": [
    "# Imports"
   ]
  },
  {
   "cell_type": "code",
   "execution_count": 21,
   "metadata": {},
   "outputs": [],
   "source": [
    "import nest_asyncio\n",
    "import random"
   ]
  },
  {
   "cell_type": "code",
   "execution_count": 33,
   "metadata": {},
   "outputs": [],
   "source": [
    "from pydantic_ai import Agent, RunContext, Tool"
   ]
  },
  {
   "cell_type": "code",
   "execution_count": 31,
   "metadata": {},
   "outputs": [],
   "source": [
    "from pprint import pprint"
   ]
  },
  {
   "cell_type": "markdown",
   "metadata": {},
   "source": [
    "# Set up asyncio\n"
   ]
  },
  {
   "cell_type": "code",
   "execution_count": 23,
   "metadata": {},
   "outputs": [],
   "source": [
    "nest_asyncio.apply()\n"
   ]
  },
  {
   "cell_type": "markdown",
   "metadata": {},
   "source": [
    "# Define the agent\n"
   ]
  },
  {
   "cell_type": "code",
   "execution_count": 24,
   "metadata": {},
   "outputs": [],
   "source": [
    "agent = Agent(\n",
    "    \"openai:gpt-4o-mini\",\n",
    "    deps_type=str,  # This will be the name of the player\n",
    "    system_prompt=(\n",
    "        \"You are a dice game, you should roll the die and see if the number \"\n",
    "        \"you get back matches the user's guess. If so, tell them they're a winner. \"\n",
    "        \"Tell them also the result of the roll. \"\n",
    "        \"Use player's name in your response. To get player's name, use the tool `get_player_name`.\"\n",
    "    ),\n",
    ")"
   ]
  },
  {
   "cell_type": "markdown",
   "metadata": {},
   "source": [
    "# Define the tools"
   ]
  },
  {
   "cell_type": "markdown",
   "metadata": {},
   "source": [
    "## Registering tools via decorators"
   ]
  },
  {
   "cell_type": "markdown",
   "metadata": {},
   "source": [
    "There are a number of ways to register tools with an agent:\n",
    "\n",
    "- via the `@agent.tool` decorator — for tools that need access to the agent context\n",
    "- via the `@agent.tool_plain` decorator — for tools that do not need access to the agent context\n",
    "- via the `tools` keyword argument to Agent which can take either plain functions, or instances of Tool\n",
    "\n",
    "`@agent.tool` is considered the default decorator since in the majority of cases tools will need access to the agent context."
   ]
  },
  {
   "cell_type": "markdown",
   "metadata": {},
   "source": [
    "### Tool plain (without context)"
   ]
  },
  {
   "cell_type": "code",
   "execution_count": 25,
   "metadata": {},
   "outputs": [],
   "source": [
    "@agent.tool_plain\n",
    "def roll_die() -> str:\n",
    "    \"\"\"Roll a six-sided die and return the result\"\"\"\n",
    "    return str(random.randint(1, 6))\n"
   ]
  },
  {
   "cell_type": "markdown",
   "metadata": {},
   "source": [
    "### Tool (with context)\n"
   ]
  },
  {
   "cell_type": "code",
   "execution_count": 26,
   "metadata": {},
   "outputs": [],
   "source": [
    "@agent.tool\n",
    "def get_player_name(ctx: RunContext[str]) -> str:\n",
    "    \"\"\"Get the player's name from the context\"\"\"\n",
    "    return ctx.deps"
   ]
  },
  {
   "cell_type": "markdown",
   "metadata": {},
   "source": [
    "### Run the agent\n"
   ]
  },
  {
   "cell_type": "code",
   "execution_count": 27,
   "metadata": {},
   "outputs": [],
   "source": [
    "dice_result = agent.run_sync(\n",
    "    user_prompt=\"My guess is 3\",\n",
    "    deps=\"John\",\n",
    ")"
   ]
  },
  {
   "cell_type": "code",
   "execution_count": 28,
   "metadata": {},
   "outputs": [
    {
     "name": "stdout",
     "output_type": "stream",
     "text": [
      "John, you guessed 3. Unfortunately, the roll was a 6, so you didn't win this time. Better luck next time!\n"
     ]
    }
   ],
   "source": [
    "print(dice_result.data)"
   ]
  },
  {
   "cell_type": "markdown",
   "metadata": {},
   "source": [
    "### See what happened"
   ]
  },
  {
   "cell_type": "code",
   "execution_count": 32,
   "metadata": {},
   "outputs": [
    {
     "name": "stdout",
     "output_type": "stream",
     "text": [
      "[ModelRequest(parts=[SystemPromptPart(content='You are a dice game, you should '\n",
      "                                              'roll the die and see if the '\n",
      "                                              'number you get back matches the '\n",
      "                                              \"user's guess. If so, tell them \"\n",
      "                                              \"they're a winner. Tell them \"\n",
      "                                              'also the result of the roll. '\n",
      "                                              \"Use player's name in your \"\n",
      "                                              \"response. To get player's name, \"\n",
      "                                              'use the tool `get_player_name`.',\n",
      "                                      dynamic_ref=None,\n",
      "                                      part_kind='system-prompt'),\n",
      "                     UserPromptPart(content='My guess is 3',\n",
      "                                    timestamp=datetime.datetime(2025, 3, 1, 8, 25, 40, 549849, tzinfo=datetime.timezone.utc),\n",
      "                                    part_kind='user-prompt')],\n",
      "              kind='request'),\n",
      " ModelResponse(parts=[ToolCallPart(tool_name='get_player_name',\n",
      "                                   args='{}',\n",
      "                                   tool_call_id='call_5zGocs9AU6x2dwiMKICkWqcl',\n",
      "                                   part_kind='tool-call')],\n",
      "               model_name='gpt-4o-mini-2024-07-18',\n",
      "               timestamp=datetime.datetime(2025, 3, 1, 8, 25, 40, tzinfo=datetime.timezone.utc),\n",
      "               kind='response'),\n",
      " ModelRequest(parts=[ToolReturnPart(tool_name='get_player_name',\n",
      "                                    content='John',\n",
      "                                    tool_call_id='call_5zGocs9AU6x2dwiMKICkWqcl',\n",
      "                                    timestamp=datetime.datetime(2025, 3, 1, 8, 25, 41, 187596, tzinfo=datetime.timezone.utc),\n",
      "                                    part_kind='tool-return')],\n",
      "              kind='request'),\n",
      " ModelResponse(parts=[ToolCallPart(tool_name='roll_die',\n",
      "                                   args='{}',\n",
      "                                   tool_call_id='call_qwkfAmIrLlIOenIKTnsmD0nE',\n",
      "                                   part_kind='tool-call')],\n",
      "               model_name='gpt-4o-mini-2024-07-18',\n",
      "               timestamp=datetime.datetime(2025, 3, 1, 8, 25, 40, tzinfo=datetime.timezone.utc),\n",
      "               kind='response'),\n",
      " ModelRequest(parts=[ToolReturnPart(tool_name='roll_die',\n",
      "                                    content='6',\n",
      "                                    tool_call_id='call_qwkfAmIrLlIOenIKTnsmD0nE',\n",
      "                                    timestamp=datetime.datetime(2025, 3, 1, 8, 25, 47, 56862, tzinfo=datetime.timezone.utc),\n",
      "                                    part_kind='tool-return')],\n",
      "              kind='request'),\n",
      " ModelResponse(parts=[TextPart(content='John, you guessed 3. Unfortunately, '\n",
      "                                       \"the roll was a 6, so you didn't win \"\n",
      "                                       'this time. Better luck next time!',\n",
      "                               part_kind='text')],\n",
      "               model_name='gpt-4o-mini-2024-07-18',\n",
      "               timestamp=datetime.datetime(2025, 3, 1, 8, 25, 46, tzinfo=datetime.timezone.utc),\n",
      "               kind='response')]\n"
     ]
    }
   ],
   "source": [
    "pprint(dice_result.all_messages())"
   ]
  },
  {
   "cell_type": "markdown",
   "metadata": {},
   "source": [
    "## Registering tools via kwarg"
   ]
  },
  {
   "cell_type": "markdown",
   "metadata": {},
   "source": [
    "### Simple way - list of functions"
   ]
  },
  {
   "cell_type": "markdown",
   "metadata": {},
   "source": [
    "Just pass a list of functions to the `tools` kwarg."
   ]
  },
  {
   "cell_type": "code",
   "execution_count": 35,
   "metadata": {},
   "outputs": [],
   "source": [
    "agent_kwarged = Agent(\n",
    "    \"openai:gpt-4o-mini\",\n",
    "    tools=[roll_die, get_player_name],\n",
    ")"
   ]
  },
  {
   "cell_type": "code",
   "execution_count": 38,
   "metadata": {},
   "outputs": [],
   "source": [
    "result_kwarged = agent_kwarged.run_sync(\n",
    "    user_prompt=\"My guess is 3\",\n",
    "    deps=\"John\",\n",
    ")\n",
    "\n"
   ]
  },
  {
   "cell_type": "code",
   "execution_count": 39,
   "metadata": {},
   "outputs": [
    {
     "data": {
      "text/plain": [
       "'You guessed 3, but the die rolled a 5. Would you like to try again?'"
      ]
     },
     "execution_count": 39,
     "metadata": {},
     "output_type": "execute_result"
    }
   ],
   "source": [
    "result_kwarged.data"
   ]
  },
  {
   "cell_type": "markdown",
   "metadata": {},
   "source": [
    "### List of Tool objects\n"
   ]
  },
  {
   "cell_type": "code",
   "execution_count": 37,
   "metadata": {},
   "outputs": [],
   "source": [
    "agent_kwarged_tools = Agent(\n",
    "    \"openai:gpt-4o-mini\",\n",
    "    tools=[\n",
    "        Tool(roll_die, takes_ctx=False),  # Plain tool\n",
    "        Tool(get_player_name, takes_ctx=True),  # Contextual tool\n",
    "    ],\n",
    ")"
   ]
  },
  {
   "cell_type": "code",
   "execution_count": 41,
   "metadata": {},
   "outputs": [],
   "source": [
    "result_kwarged_tools = agent_kwarged_tools.run_sync(\n",
    "    user_prompt=\"My guess is 3\",\n",
    "    deps=\"John\",\n",
    ")\n"
   ]
  },
  {
   "cell_type": "code",
   "execution_count": 42,
   "metadata": {},
   "outputs": [
    {
     "data": {
      "text/plain": [
       "'You guessed 3, but the die rolled a 6. Better luck next time! Would you like to play again or do something else?'"
      ]
     },
     "execution_count": 42,
     "metadata": {},
     "output_type": "execute_result"
    }
   ],
   "source": [
    "\n",
    "result_kwarged_tools.data\n",
    "\n"
   ]
  }
 ],
 "metadata": {
  "kernelspec": {
   "display_name": "Python 3",
   "language": "python",
   "name": "python3"
  },
  "language_info": {
   "codemirror_mode": {
    "name": "ipython",
    "version": 3
   },
   "file_extension": ".py",
   "mimetype": "text/x-python",
   "name": "python",
   "nbconvert_exporter": "python",
   "pygments_lexer": "ipython3",
   "version": "3.12.7"
  }
 },
 "nbformat": 4,
 "nbformat_minor": 2
}
