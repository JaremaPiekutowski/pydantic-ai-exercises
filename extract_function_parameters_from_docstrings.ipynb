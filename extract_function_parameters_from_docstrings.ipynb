{
 "cells": [
  {
   "cell_type": "markdown",
   "metadata": {},
   "source": [
    "# Introduction"
   ]
  },
  {
   "cell_type": "markdown",
   "metadata": {},
   "source": [
    "Function parameters are extracted from the function signature, and all parameters except **`RunContext`** are used to build the schema for that tool call.\n",
    "\n",
    "Even better, PydanticAI extracts the docstring from functions and (thanks to griffe) extracts parameter descriptions from the docstring and adds them to the schema.\n",
    "\n",
    "Griffe supports extracting parameter descriptions from `google`, `numpy`, and `sphinx` style docstrings. PydanticAI will infer the format to use based on the docstring, but you can explicitly set it using docstring_format. You can also enforce parameter requirements by setting `require_parameter_descriptions=True`. This will raise a UserError if a parameter description is missing.\n",
    "\n",
    "To demonstrate a tool's schema, here we use FunctionModel to print the schema a model would receive:"
   ]
  },
  {
   "cell_type": "markdown",
   "metadata": {},
   "source": [
    "# Imports"
   ]
  },
  {
   "cell_type": "code",
   "execution_count": 1,
   "metadata": {},
   "outputs": [],
   "source": [
    "import nest_asyncio"
   ]
  },
  {
   "cell_type": "code",
   "execution_count": 11,
   "metadata": {},
   "outputs": [],
   "source": [
    "from pydantic import BaseModel"
   ]
  },
  {
   "cell_type": "code",
   "execution_count": 9,
   "metadata": {},
   "outputs": [],
   "source": [
    "from pydantic_ai import Agent\n",
    "from pydantic_ai.messages import ModelMessage, ModelResponse, TextPart\n",
    "from pydantic_ai.models.function import AgentInfo, FunctionModel\n",
    "from pydantic_ai.models.test import TestModel"
   ]
  },
  {
   "cell_type": "code",
   "execution_count": 3,
   "metadata": {},
   "outputs": [],
   "source": [
    "from pprint import pprint"
   ]
  },
  {
   "cell_type": "markdown",
   "metadata": {},
   "source": [
    "# Setup async"
   ]
  },
  {
   "cell_type": "code",
   "execution_count": 4,
   "metadata": {},
   "outputs": [],
   "source": [
    "nest_asyncio.apply()"
   ]
  },
  {
   "cell_type": "markdown",
   "metadata": {},
   "source": [
    "# Create agent"
   ]
  },
  {
   "cell_type": "code",
   "execution_count": 5,
   "metadata": {},
   "outputs": [],
   "source": [
    "# Nothing will be done so we don't even add model\n",
    "agent = Agent()"
   ]
  },
  {
   "cell_type": "markdown",
   "metadata": {},
   "source": [
    "# Add plain tool with docstrings"
   ]
  },
  {
   "cell_type": "code",
   "execution_count": 6,
   "metadata": {},
   "outputs": [],
   "source": [
    "@agent.tool_plain(docstring_format='google', require_parameter_descriptions=True)\n",
    "def get_lumon_employee(a: int, b: str, c: dict[str, list[float]]) -> str:\n",
    "    \"\"\"Retrieves detailed information about a Lumon employee based on their identifiers.\n",
    "\n",
    "    Formats employee information including their employee number, name, and associated\n",
    "    numerical codes into a human-readable string format.\n",
    "\n",
    "    Args:\n",
    "        a (int): The employee identification number used in Lumon's system.\n",
    "        b (str): The full name of the employee.\n",
    "        c (dict[str, list[float]]): A dictionary containing coded numerical sequences,\n",
    "            where each key maps to a list of floating-point numbers.\n",
    "\n",
    "    Returns:\n",
    "        str: A formatted string containing the employee's details and their associated\n",
    "            numerical codes.\n",
    "    \"\"\"\n",
    "    return f\"Employee {a}:{b}n\\nNumbers:\\n{c}\""
   ]
  },
  {
   "cell_type": "markdown",
   "metadata": {},
   "source": [
    "# Function for printing schema "
   ]
  },
  {
   "cell_type": "markdown",
   "metadata": {},
   "source": [
    "To be then run as a basis of a FunctionModel."
   ]
  },
  {
   "cell_type": "code",
   "execution_count": 7,
   "metadata": {},
   "outputs": [],
   "source": [
    "def print_schema(messages: list[ModelMessage], info: AgentInfo) -> ModelResponse:\n",
    "    tool = info.function_tools[0]\n",
    "    print(\"TOOL DESCRIPTION:\")\n",
    "    print(tool.description)\n",
    "    print(\"\\nTOOL PARAMETERS JSON SCHEMA\")\n",
    "    pprint(tool.parameters_json_schema)\n",
    "    return ModelResponse(parts=[TextPart('get_lumon_employee')])"
   ]
  },
  {
   "cell_type": "code",
   "execution_count": 8,
   "metadata": {},
   "outputs": [
    {
     "name": "stdout",
     "output_type": "stream",
     "text": [
      "TOOL DESCRIPTION:\n",
      "Retrieves detailed information about a Lumon employee based on their identifiers.\n",
      "\n",
      "Formats employee information including their employee number, name, and associated\n",
      "numerical codes into a human-readable string format.\n",
      "\n",
      "TOOL PARAMETERS JSON SCHEMA\n",
      "{'additionalProperties': False,\n",
      " 'properties': {'a': {'description': 'The employee identification number used '\n",
      "                                     \"in Lumon's system.\",\n",
      "                      'title': 'A',\n",
      "                      'type': 'integer'},\n",
      "                'b': {'description': 'The full name of the employee.',\n",
      "                      'title': 'B',\n",
      "                      'type': 'string'},\n",
      "                'c': {'additionalProperties': {'items': {'type': 'number'},\n",
      "                                               'type': 'array'},\n",
      "                      'description': 'A dictionary containing coded numerical '\n",
      "                                     'sequences,\\n'\n",
      "                                     'where each key maps to a list of '\n",
      "                                     'floating-point numbers.',\n",
      "                      'title': 'C',\n",
      "                      'type': 'object'}},\n",
      " 'required': ['a', 'b', 'c'],\n",
      " 'type': 'object'}\n"
     ]
    },
    {
     "data": {
      "text/plain": [
       "AgentRunResult(data='get_lumon_employee')"
      ]
     },
     "execution_count": 8,
     "metadata": {},
     "output_type": "execute_result"
    }
   ],
   "source": [
    "agent.run_sync(\n",
    "    user_prompt=\"Hello\",\n",
    "    model=FunctionModel(print_schema),\n",
    ")"
   ]
  }
 ],
 "metadata": {
  "kernelspec": {
   "display_name": "Python 3",
   "language": "python",
   "name": "python3"
  },
  "language_info": {
   "codemirror_mode": {
    "name": "ipython",
    "version": 3
   },
   "file_extension": ".py",
   "mimetype": "text/x-python",
   "name": "python",
   "nbconvert_exporter": "python",
   "pygments_lexer": "ipython3",
   "version": "3.12.7"
  }
 },
 "nbformat": 4,
 "nbformat_minor": 2
}
